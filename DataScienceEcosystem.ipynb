{
 "cells": [
  {
   "cell_type": "markdown",
   "id": "528b8a10-e257-406a-ba69-725fd9024e01",
   "metadata": {},
   "source": [
    "# Data Science Tools and Ecosystems"
   ]
  },
  {
   "cell_type": "markdown",
   "id": "1c53f4e1-fd05-481b-8387-84f24d6323aa",
   "metadata": {},
   "source": [
    "In this notebook, Data Science Tools and Ecosystem are summarized."
   ]
  },
  {
   "cell_type": "markdown",
   "id": "c2c6e4ad-70e8-42ea-8161-b7437227da1d",
   "metadata": {},
   "source": [
    "**Objectives:**\n",
    "* List popular languages for Data Science\n",
    "* Learn how to use Markdowns\n",
    "* Learn how to comment Code cells\n",
    "* Learn how to do basic arithmetic"
   ]
  },
  {
   "cell_type": "markdown",
   "id": "1c692e7c-bfd5-47bd-a34f-bdec39e89e4b",
   "metadata": {},
   "source": [
    "Some of the popular languages that Data Scientists use are:\n",
    "1. Python\n",
    "2. R\n",
    "3. Julia\n",
    "4. Scala"
   ]
  },
  {
   "cell_type": "markdown",
   "id": "9884a937-af19-4f34-ad63-7760b739da47",
   "metadata": {},
   "source": [
    "Some of the commonly used libraries used by Data Scientists include:\n",
    "1. Pandas\n",
    "2. Numpy\n",
    "3. Matplotlib\n",
    "4. Scikit-learn"
   ]
  },
  {
   "cell_type": "markdown",
   "id": "f820cfe0-c859-42c0-a219-48b244459ca3",
   "metadata": {},
   "source": [
    "| Data Science Tools |\n",
    "|--------------------|\n",
    "| Hadoop             |\n",
    "| Apache Spark       |\n",
    "| TensorFlow.js      |"
   ]
  },
  {
   "cell_type": "markdown",
   "id": "567a9014-3411-41ce-b5e6-16df1832cda5",
   "metadata": {},
   "source": [
    "### Below are a few examples of evaluating arithmetic expressions in Python"
   ]
  },
  {
   "cell_type": "code",
   "execution_count": 1,
   "id": "3878669f-4bc8-446a-b126-ca97d88ae1cc",
   "metadata": {
    "tags": []
   },
   "outputs": [
    {
     "data": {
      "text/plain": [
       "17"
      ]
     },
     "execution_count": 1,
     "metadata": {},
     "output_type": "execute_result"
    }
   ],
   "source": [
    "#This a simple arithmetic expression to mutiply then add integers\n",
    "(3*4)+5"
   ]
  },
  {
   "cell_type": "code",
   "execution_count": 2,
   "id": "8c6ddaeb-2569-4412-8d4f-771545b3d8d2",
   "metadata": {
    "tags": []
   },
   "outputs": [
    {
     "data": {
      "text/plain": [
       "3.3333333333333335"
      ]
     },
     "execution_count": 2,
     "metadata": {},
     "output_type": "execute_result"
    }
   ],
   "source": [
    "#This will convert 200 minutes to hours by diving by 60\n",
    "200/60"
   ]
  },
  {
   "cell_type": "markdown",
   "id": "2fad98b6-3b98-4269-af43-ddcc21cab6f2",
   "metadata": {},
   "source": [
    "## Author\n",
    "Cristian Castañeda"
   ]
  },
  {
   "cell_type": "code",
   "execution_count": null,
   "id": "7ebc4a62-8e5a-4752-9982-a4917254e535",
   "metadata": {},
   "outputs": [],
   "source": []
  }
 ],
 "metadata": {
  "kernelspec": {
   "display_name": "Python",
   "language": "python",
   "name": "conda-env-python-py"
  },
  "language_info": {
   "codemirror_mode": {
    "name": "ipython",
    "version": 3
   },
   "file_extension": ".py",
   "mimetype": "text/x-python",
   "name": "python",
   "nbconvert_exporter": "python",
   "pygments_lexer": "ipython3",
   "version": "3.7.12"
  }
 },
 "nbformat": 4,
 "nbformat_minor": 5
}
